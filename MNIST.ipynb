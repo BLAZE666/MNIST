{
 "cells": [
  {
   "cell_type": "markdown",
   "id": "41b81b67",
   "metadata": {},
   "source": [
    "### Importing the libraries"
   ]
  },
  {
   "cell_type": "code",
   "execution_count": 1,
   "id": "1e910452",
   "metadata": {},
   "outputs": [],
   "source": [
    "import numpy as np\n",
    "import tensorflow as tf\n",
    "import tensorflow_datasets as tfds"
   ]
  },
  {
   "cell_type": "markdown",
   "id": "90ecc6bc",
   "metadata": {},
   "source": [
    "### Importing the MNIST dataset"
   ]
  },
  {
   "cell_type": "code",
   "execution_count": 2,
   "id": "d5e3ed28",
   "metadata": {
    "scrolled": true
   },
   "outputs": [],
   "source": [
    "mnist_dataset, mnist_info = tfds.load(name='mnist',with_info=True,as_supervised=True)"
   ]
  },
  {
   "cell_type": "markdown",
   "id": "990f642b",
   "metadata": {},
   "source": [
    "### Preprocessing the data"
   ]
  },
  {
   "cell_type": "code",
   "execution_count": 3,
   "id": "632b3bbd",
   "metadata": {},
   "outputs": [],
   "source": [
    "mnist_train, mnist_test = mnist_dataset['train'], mnist_dataset['test']\n",
    "\n",
    "num_validation_samples = 0.1 * mnist_info.splits['train'].num_examples\n",
    "num_validation_samples = tf.cast(num_validation_samples, tf.int64)\n",
    "\n",
    "num_test_samples = mnist_info.splits['test'].num_examples\n",
    "num_test_samples = tf.cast(num_test_samples,tf.int64)\n",
    "\n",
    "def scale(image,label):\n",
    "    image=tf.cast(image, tf.float32)\n",
    "    image /= 255.\n",
    "    return image, label\n",
    "\n",
    "scaled_train_and_validation_data = mnist_train.map(scale)\n",
    "scaled_test_data = mnist_test.map(scale)\n",
    "\n",
    "buffer_size = 10000\n",
    "\n",
    "shuffled_train_and_validation_data = scaled_train_and_validation_data.shuffle(buffer_size)\n",
    "\n",
    "validation_data = shuffled_train_and_validation_data.take(num_validation_samples)\n",
    "train_data = shuffled_train_and_validation_data.skip(num_validation_samples)\n",
    "\n",
    "batch_size = 150\n",
    "train_data = train_data.batch(batch_size)\n",
    "validation_data = validation_data.batch(num_validation_samples)\n",
    "test_data = scaled_test_data.batch(num_test_samples)\n",
    "\n",
    "validation_inputs, validation_targets = next(iter(validation_data))"
   ]
  },
  {
   "cell_type": "markdown",
   "id": "33439ab6",
   "metadata": {},
   "source": [
    "# Model"
   ]
  },
  {
   "cell_type": "markdown",
   "id": "ee910be4",
   "metadata": {},
   "source": [
    "### Outline the model"
   ]
  },
  {
   "cell_type": "code",
   "execution_count": 4,
   "id": "a4b79c43",
   "metadata": {},
   "outputs": [],
   "source": [
    "input_size = 784\n",
    "output_size = 10\n",
    "hidden_layer_size = 500\n",
    "\n",
    "model = tf.keras.Sequential([\n",
    "    tf.keras.layers.Flatten(input_shape=(28,28,1)),\n",
    "    tf.keras.layers.Dense(hidden_layer_size, activation='relu'),\n",
    "#     tf.keras.layers.Dense(hidden_layer_size, activation='tanh'),\n",
    "#     tf.keras.layers.Dense(hidden_layer_size, activation='sigmoid'),\n",
    "    tf.keras.layers.Dense(hidden_layer_size, activation='relu'),\n",
    "#     tf.keras.layers.Dense(hidden_layer_size, activation='tanh'),\n",
    "#     tf.keras.layers.Dense(hidden_layer_size, activation='sigmoid'),\n",
    "    tf.keras.layers.Dense(output_size,activation='softmax')\n",
    "])"
   ]
  },
  {
   "cell_type": "code",
   "execution_count": 5,
   "id": "28b46f6a",
   "metadata": {},
   "outputs": [],
   "source": [
    "custom_optimizer = tf.keras.optimizers.Adam(learning_rate=0.02)\n",
    "\n",
    "# model.compile(optimizer=custom_optimizer, loss='sparse_categorical_crossentropy', metrics=['accuracy'])\n",
    "\n",
    "model.compile(optimizer='adam', loss='sparse_categorical_crossentropy', metrics=['accuracy'])"
   ]
  },
  {
   "cell_type": "markdown",
   "id": "e7ef9e6a",
   "metadata": {},
   "source": [
    "### Training"
   ]
  },
  {
   "cell_type": "code",
   "execution_count": 6,
   "id": "284b9e66",
   "metadata": {},
   "outputs": [
    {
     "name": "stdout",
     "output_type": "stream",
     "text": [
      "Epoch 1/10\n",
      "360/360 - 6s - loss: 0.2375 - accuracy: 0.9295 - val_loss: 0.1026 - val_accuracy: 0.9687 - 6s/epoch - 18ms/step\n",
      "Epoch 2/10\n",
      "360/360 - 5s - loss: 0.0867 - accuracy: 0.9732 - val_loss: 0.0704 - val_accuracy: 0.9782 - 5s/epoch - 14ms/step\n",
      "Epoch 3/10\n",
      "360/360 - 6s - loss: 0.0552 - accuracy: 0.9824 - val_loss: 0.0568 - val_accuracy: 0.9800 - 6s/epoch - 16ms/step\n",
      "Epoch 4/10\n",
      "360/360 - 6s - loss: 0.0396 - accuracy: 0.9871 - val_loss: 0.0414 - val_accuracy: 0.9873 - 6s/epoch - 16ms/step\n",
      "Epoch 5/10\n",
      "360/360 - 6s - loss: 0.0307 - accuracy: 0.9899 - val_loss: 0.0288 - val_accuracy: 0.9892 - 6s/epoch - 16ms/step\n",
      "Epoch 6/10\n",
      "360/360 - 6s - loss: 0.0248 - accuracy: 0.9916 - val_loss: 0.0240 - val_accuracy: 0.9923 - 6s/epoch - 16ms/step\n",
      "Epoch 7/10\n",
      "360/360 - 6s - loss: 0.0181 - accuracy: 0.9943 - val_loss: 0.0191 - val_accuracy: 0.9942 - 6s/epoch - 16ms/step\n",
      "Epoch 8/10\n",
      "360/360 - 6s - loss: 0.0197 - accuracy: 0.9936 - val_loss: 0.0319 - val_accuracy: 0.9890 - 6s/epoch - 16ms/step\n",
      "Epoch 9/10\n",
      "360/360 - 6s - loss: 0.0136 - accuracy: 0.9956 - val_loss: 0.0178 - val_accuracy: 0.9950 - 6s/epoch - 15ms/step\n",
      "Epoch 10/10\n",
      "360/360 - 6s - loss: 0.0130 - accuracy: 0.9957 - val_loss: 0.0226 - val_accuracy: 0.9923 - 6s/epoch - 15ms/step\n"
     ]
    },
    {
     "data": {
      "text/plain": [
       "<keras.src.callbacks.History at 0x23737b07d90>"
      ]
     },
     "execution_count": 6,
     "metadata": {},
     "output_type": "execute_result"
    }
   ],
   "source": [
    "num_epochs = 10\n",
    "early_stopping = tf.keras.callbacks.EarlyStopping(patience=2)\n",
    "\n",
    "model.fit(\n",
    "    train_data,\n",
    "    epochs=num_epochs,\n",
    "    callbacks = [early_stopping],\n",
    "    validation_data=(validation_inputs, validation_targets),\n",
    "    verbose=2)"
   ]
  },
  {
   "cell_type": "markdown",
   "id": "8e9df75c",
   "metadata": {},
   "source": [
    "### Testing the model"
   ]
  },
  {
   "cell_type": "code",
   "execution_count": 7,
   "id": "6d70bc70",
   "metadata": {},
   "outputs": [
    {
     "name": "stdout",
     "output_type": "stream",
     "text": [
      "1/1 [==============================] - 1s 633ms/step - loss: 0.0746 - accuracy: 0.9806\n"
     ]
    }
   ],
   "source": [
    "test_loss, test_accuracy = model.evaluate(test_data)"
   ]
  },
  {
   "cell_type": "code",
   "execution_count": 8,
   "id": "a2c47fa9",
   "metadata": {},
   "outputs": [
    {
     "name": "stdout",
     "output_type": "stream",
     "text": [
      "Test loss:0.07. Test accuracy:98.06%\n"
     ]
    }
   ],
   "source": [
    "print('Test loss:{0:.2f}. Test accuracy:{1:.2f}%'.format(test_loss, test_accuracy*100.))"
   ]
  },
  {
   "cell_type": "code",
   "execution_count": null,
   "id": "465cfd81",
   "metadata": {},
   "outputs": [],
   "source": []
  }
 ],
 "metadata": {
  "kernelspec": {
   "display_name": "Python [conda env:py3-TF2.0]",
   "language": "python",
   "name": "conda-env-py3-TF2.0-py"
  },
  "language_info": {
   "codemirror_mode": {
    "name": "ipython",
    "version": 3
   },
   "file_extension": ".py",
   "mimetype": "text/x-python",
   "name": "python",
   "nbconvert_exporter": "python",
   "pygments_lexer": "ipython3",
   "version": "3.8.19"
  }
 },
 "nbformat": 4,
 "nbformat_minor": 5
}
